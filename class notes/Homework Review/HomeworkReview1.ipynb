{
 "cells": [
  {
   "cell_type": "markdown",
   "metadata": {},
   "source": [
    "# Homework Review"
   ]
  },
  {
   "cell_type": "markdown",
   "metadata": {},
   "source": [
    "Import Libraries"
   ]
  },
  {
   "cell_type": "code",
   "execution_count": 3,
   "metadata": {},
   "outputs": [],
   "source": [
    "import pandas as pd \n",
    "import numpy as np\n",
    "import seaborn as sns\n",
    "from sinfo import sinfo"
   ]
  },
  {
   "cell_type": "markdown",
   "metadata": {},
   "source": [
    "Write-in data"
   ]
  },
  {
   "cell_type": "code",
   "execution_count": 4,
   "metadata": {},
   "outputs": [],
   "source": [
    "grades = [{'student': '1', 'HW1': 4, 'HW2': \"-\", 'HW3': \"-\"},\n",
    "         {'student': '2',  'HW1': 0, 'HW2': \"-\", 'HW3': \"-\"},\n",
    "         {'student': '3',  'HW1': 5, 'HW2': \"-\",  'HW3': \"-\"},\n",
    "         {'student': '4', 'HW1': 4, 'HW2': \"-\", 'HW3': \"-\"},\n",
    "         {'student': '5',  'HW1': 5, 'HW2': \"-\", 'HW3': \"-\"},\n",
    "         {'student': '6',  'HW1': 5, 'HW2': \"-\",  'HW3': \"-\"},\n",
    "         {'student': '7', 'HW1': 4, 'HW2': \"-\", 'HW3': \"-\"},\n",
    "         {'student': '8',  'HW1': 4, 'HW2': \"-\", 'HW3': \"-\"},\n",
    "         {'student': '9',  'HW1': 0, 'HW2': \"-\",  'HW3': \"-\"},\n",
    "         {'student': '10', 'HW1': 5, 'HW2': \"-\", 'HW3': \"-\"},\n",
    "         {'student': '11',  'HW1': 4, 'HW2': \"-\", 'HW3': \"-\"},]"
   ]
  },
  {
   "cell_type": "markdown",
   "metadata": {},
   "source": [
    "Assign data as a pandas DataFrame and subset the HW1 column"
   ]
  },
  {
   "cell_type": "code",
   "execution_count": 5,
   "metadata": {},
   "outputs": [],
   "source": [
    "df_grades = pd.DataFrame(grades)\n",
    "HW1_grades = df_grades['HW1']"
   ]
  },
  {
   "cell_type": "markdown",
   "metadata": {},
   "source": [
    "Plot Results for HW1"
   ]
  },
  {
   "cell_type": "code",
   "execution_count": 6,
   "metadata": {},
   "outputs": [
    {
     "data": {
      "image/png": "[encoded data removed]",
      "text/plain": [
       "<Figure size 432x288 with 1 Axes>"
      ]
     },
     "metadata": {
      "needs_background": "light"
     },
     "output_type": "display_data"
    }
   ],
   "source": [
    "grades_hist = sns.distplot(HW1_grades)"
   ]
  },
  {
   "cell_type": "code",
   "execution_count": 7,
   "metadata": {},
   "outputs": [
    {
     "name": "stdout",
     "output_type": "stream",
     "text": [
      "-----\n",
      "matplotlib  3.1.1\n",
      "numpy       1.18.1\n",
      "pandas      0.25.3\n",
      "seaborn     0.9.0\n",
      "sinfo       0.3.1\n",
      "-----\n",
      "IPython             7.11.1\n",
      "jupyter_client      5.3.4\n",
      "jupyter_core        4.6.1\n",
      "jupyterlab          1.2.5\n",
      "notebook            6.0.2\n",
      "-----\n",
      "Python 3.7.6 (default, Jan  8 2020, 20:23:39) [MSC v.1916 64 bit (AMD64)]\n",
      "Windows-10-10.0.18362-SP0\n",
      "12 logical CPU cores, AMD64 Family 23 Model 113 Stepping 0, AuthenticAMD\n",
      "-----\n",
      "Session information updated at 2020-02-06 17:25\n"
     ]
    }
   ],
   "source": [
    "sinfo()"
   ]
  }
 ],
 "metadata": {
  "kernelspec": {
   "display_name": "Python 3",
   "language": "python",
   "name": "python3"
  },
  "language_info": {
   "codemirror_mode": {
    "name": "ipython",
    "version": 3
   },
   "file_extension": ".py",
   "mimetype": "text/x-python",
   "name": "python",
   "nbconvert_exporter": "python",
   "pygments_lexer": "ipython3",
   "version": "3.7.6"
  }
 },
 "nbformat": 4,
 "nbformat_minor": 2
}
